{
  "nbformat": 4,
  "nbformat_minor": 0,
  "metadata": {
    "colab": {
      "provenance": []
    },
    "kernelspec": {
      "name": "python3",
      "display_name": "Python 3"
    },
    "language_info": {
      "name": "python"
    }
  },
  "cells": [
    {
      "cell_type": "code",
      "execution_count": null,
      "metadata": {
        "id": "BhRdbQs9cqxM",
        "colab": {
          "base_uri": "https://localhost:8080/",
          "height": 282
        },
        "outputId": "6d75970d-082e-46bb-aa3b-e7c8bec0ad99"
      },
      "outputs": [
        {
          "output_type": "stream",
          "name": "stdout",
          "text": [
            "[-0.496748185827405, -0.4598237778379626, 0.6820403743739304]\n"
          ]
        },
        {
          "output_type": "display_data",
          "data": {
            "text/plain": [
              "<Figure size 432x288 with 1 Axes>"
            ],
            "image/png": "[encoded data removed]"
          },
          "metadata": {
            "needs_background": "light"
          }
        }
      ],
      "source": [
        "import math\n",
        "import random\n",
        "from matplotlib import pyplot as plt\n",
        "import matplotlib.animation as animation\n",
        "\n",
        "fig = plt.figure()\n",
        "ax1 = fig.add_subplot(1,1,1)\n",
        "\n",
        "def gen_vec(m1, m2, d1, d2, n):\n",
        "    a = []\n",
        "    b = []\n",
        "    for i in range(n):\n",
        "        a.append([random.gauss(m1, d1), random.gauss(m1, d1)])\n",
        "        b.append([random.gauss(m2, d2), random.gauss(m2, d2)])\n",
        "    return a, b\n",
        "\n",
        "def suma(x, w):\n",
        "    s = 0\n",
        "    for j in range(len(x)):\n",
        "        s += w[j] * x[j]\n",
        "    s += w[2]\n",
        "    return s\n",
        "\n",
        "def iter_f(i, t, arr, w, e0):\n",
        "    s = suma(arr[i], w)\n",
        "    out = 1 / (1 + math.exp(- (s)))\n",
        "    e = 0.5 * (out - t)**2\n",
        "    if e < e0:\n",
        "        return e\n",
        "    d = 0.7 * (out - t) * (math.exp(-s) / (1 + math.exp(-s)) ** 2)\n",
        "    w[0] -= d * arr[i][0]\n",
        "    w[1] -= d * arr[i][1]\n",
        "    w[2] -= d\n",
        "    return e\n",
        "\n",
        "def main():\n",
        "    n = 100\n",
        "    e0 = 0.051\n",
        "    arr_a, arr_b = gen_vec(3, -1, 0.6, 0.6, n)\n",
        "    arr_w = [random.random(), random.random(), random.random()]\n",
        "    while True:\n",
        "        s = 0\n",
        "        for i in range(n):\n",
        "            s += iter_f(i, 0, arr_a, arr_w, e0)\n",
        "            s += iter_f(i, 1, arr_b, arr_w, e0)\n",
        "        s /= (n*2)\n",
        "        #print(s)\n",
        "        if s < e0:\n",
        "            break\n",
        "    koef = [- (arr_w[1] / arr_w[0]), - (arr_w[2] / arr_w[0])]\n",
        "    arr1 = []\n",
        "    arr2 = []\n",
        "    a = -1.0\n",
        "\n",
        "    while a <= 4.0:\n",
        "        arr1.append(a)\n",
        "        arr2.append(a * koef[0] + koef[1])\n",
        "        a += 0.1\n",
        "    ax1.clear()\n",
        "    ax1.plot(arr1, arr2, color=\"blue\")\n",
        "    for i in range(n):\n",
        "        ax1.plot(arr_a[i][0], arr_a[i][1], \"ro\", color=\"black\")\n",
        "        ax1.plot(arr_b[i][0], arr_b[i][1], \"ro\", color=\"orange\")\n",
        "    ax1.grid()\n",
        "    print(arr_w)\n",
        "\n",
        "def refrash():\n",
        "    #ani = animation.FuncAnimation(fig, main, interval=1000)\n",
        "    main()\n",
        "    plt.show()\n",
        "\n",
        "refrash()"
      ]
    }
  ]
}